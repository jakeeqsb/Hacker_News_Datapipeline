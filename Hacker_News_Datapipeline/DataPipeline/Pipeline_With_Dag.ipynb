{
 "cells": [
  {
   "cell_type": "code",
   "execution_count": 1,
   "metadata": {},
   "outputs": [],
   "source": [
    "import dag\n",
    "\n",
    "#Define the Pipeline Class\n",
    "\n",
    "class Pipeline:\n",
    "    def __init__(self):\n",
    "        self.tasks = dag.DAG()\n",
    "        \n",
    "    def task(self, depends_on = None):\n",
    "        def inner(f):\n",
    "            self.tasks.add(f)\n",
    "            \n",
    "            if depends_on:\n",
    "                self.tasks.add(depends_on,f)\n",
    "                \n",
    "            return f\n",
    "        \n",
    "        return inner \n",
    "    \n",
    "    \n",
    "    def run(self):\n",
    "        visited = self.tasks.sort()\n",
    "        completed = dict()\n",
    "        \n",
    "        for task in visited:\n",
    "            for node, neibor in self.tasks.graph.items():\n",
    "                if task in neibor:\n",
    "                    completed[task] = task(completed[node])\n",
    "            if task not in completed:\n",
    "                completed[task] = task()\n",
    "                \n",
    "        return completed"
   ]
  },
  {
   "cell_type": "code",
   "execution_count": 2,
   "metadata": {},
   "outputs": [
    {
     "name": "stdout",
     "output_type": "stream",
     "text": [
      "{<function first at 0x1089b2840>: 20, <function second at 0x1089b2378>: 40, <function thrid at 0x1089b2620>: 13, <function fourth at 0x1089b27b8>: 10}\n"
     ]
    }
   ],
   "source": [
    "#run the Pipeline with example functions\n",
    "\n",
    "pipeline = Pipeline()\n",
    "\n",
    "@pipeline.task()\n",
    "def first():\n",
    "    return 20\n",
    "\n",
    "@pipeline.task(depends_on = first)\n",
    "def second(x):\n",
    "    return x * 2\n",
    "\n",
    "@pipeline.task(depends_on = second)\n",
    "def thrid(x):\n",
    "    return x // 3\n",
    "\n",
    "@pipeline.task(depends_on = second)\n",
    "def fourth(x):\n",
    "    return x // 4\n",
    "\n",
    "print(pipeline.run())\n",
    "\n"
   ]
  },
  {
   "cell_type": "code",
   "execution_count": null,
   "metadata": {},
   "outputs": [],
   "source": []
  }
 ],
 "metadata": {
  "kernelspec": {
   "display_name": "Python 3",
   "language": "python",
   "name": "python3"
  },
  "language_info": {
   "codemirror_mode": {
    "name": "ipython",
    "version": 3
   },
   "file_extension": ".py",
   "mimetype": "text/x-python",
   "name": "python",
   "nbconvert_exporter": "python",
   "pygments_lexer": "ipython3",
   "version": "3.6.1"
  }
 },
 "nbformat": 4,
 "nbformat_minor": 2
}
