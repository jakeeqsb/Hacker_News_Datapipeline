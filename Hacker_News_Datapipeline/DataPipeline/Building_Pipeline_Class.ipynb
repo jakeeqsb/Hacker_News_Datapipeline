{
 "cells": [
  {
   "cell_type": "code",
   "execution_count": 2,
   "metadata": {},
   "outputs": [
    {
     "name": "stdout",
     "output_type": "stream",
     "text": [
      "9\n"
     ]
    }
   ],
   "source": [
    "#Creating my own partial function\n",
    "def add(a,b): return a+b\n",
    "\n",
    "def partial(func, *args):\n",
    "    p_args = args\n",
    "    \n",
    "    def inner(*inner_args):\n",
    "        return func(*(p_args + inner_args))\n",
    "    \n",
    "    return inner\n",
    "\n",
    "add_two = partial(add,2)\n",
    "print(add_two(7))\n"
   ]
  },
  {
   "cell_type": "code",
   "execution_count": 3,
   "metadata": {},
   "outputs": [
    {
     "name": "stdout",
     "output_type": "stream",
     "text": [
      "throws_error()\n"
     ]
    }
   ],
   "source": [
    "#Decorator examples \n",
    "\n",
    "def catch_error(a_func):\n",
    "    def inner_func(*args):\n",
    "        try:\n",
    "            return a_func(*args)\n",
    "        except Exception as e:\n",
    "            return e\n",
    "    return inner_func\n",
    "\n",
    "@catch_error\n",
    "def throws_error():\n",
    "    raise Exception(\"throws_error()\")\n",
    "    \n",
    "print(throws_error())\n"
   ]
  },
  {
   "cell_type": "code",
   "execution_count": 2,
   "metadata": {},
   "outputs": [
    {
     "name": "stdout",
     "output_type": "stream",
     "text": [
      "Function name:multiply\n",
      "args: (2, 2)\n",
      "4\n"
     ]
    }
   ],
   "source": [
    "#Decorator with another example\n",
    "def logger(func):\n",
    "    def inner(*args):\n",
    "        print(\"Function name:{}\".format(func.__name__))\n",
    "        print(\"args: {}\".format(args))\n",
    "        return func(*args)\n",
    "    return inner\n",
    "\n",
    "@logger\n",
    "def multiply(a,b):\n",
    "    return a * b \n",
    "\n",
    "print(multiply(2,2))"
   ]
  },
  {
   "cell_type": "code",
   "execution_count": 23,
   "metadata": {},
   "outputs": [
    {
     "data": {
      "text/plain": [
       "'\\n@pipeline.add_task()\\ndef first_task(x):\\n    return x+1\\n\\n@pipeline.add_task(depends_on = first_task)\\ndef second_task(x):\\n    return x*2\\n\\n@pipeline.add_task(depends_on = second_task)\\ndef last_task(x):\\n    return x - 4\\n\\nprint(pipeline.run_tasks(20))\\n'"
      ]
     },
     "execution_count": 23,
     "metadata": {},
     "output_type": "execute_result"
    }
   ],
   "source": [
    "#Creating Pipeline class and its tasks\n",
    "\n",
    "class Pipeline:\n",
    "    def __init__(self):\n",
    "        self.tasks = []\n",
    "    \n",
    "    def add_task(self, depends_on = None):\n",
    "        i  = 0\n",
    "        if depends_on:\n",
    "            i  = self.tasks.index(depends_on) + 1\n",
    "        def inner(f):\n",
    "            self.tasks.insert(i,f)\n",
    "            return f\n",
    "        return inner\n",
    "    def run_tasks(self, inpt):\n",
    "        out = inpt\n",
    "        for f in self.tasks:\n",
    "            out = f(out)\n",
    "            \n",
    "        return out\n",
    "    \n",
    "pipeline = Pipeline()\n",
    "'''\n",
    "@pipeline.add_task()\n",
    "def first_task(x):\n",
    "    return x+1\n",
    "\n",
    "@pipeline.add_task(depends_on = first_task)\n",
    "def second_task(x):\n",
    "    return x*2\n",
    "\n",
    "@pipeline.add_task(depends_on = second_task)\n",
    "def last_task(x):\n",
    "    return x - 4\n",
    "\n",
    "print(pipeline.run_tasks(20))\n",
    "'''"
   ]
  },
  {
   "cell_type": "code",
   "execution_count": 24,
   "metadata": {},
   "outputs": [
    {
     "name": "stdout",
     "output_type": "stream",
     "text": [
      "['request_type,count\\r\\n', 'PUT,3367\\r\\n', 'POST,3299\\r\\n', 'GET,3334\\r\\n']\n"
     ]
    }
   ],
   "source": [
    "import io\n",
    "import itertools\n",
    "import csv\n",
    "from datetime import datetime\n",
    "\n",
    "def parse_time(time_str):\n",
    "    \"\"\"\n",
    "    Parses time in the format [day/month/year:HH:MM:SS +####]\n",
    "    to a datetime object\n",
    "    \"\"\"\n",
    "    time_obj = datetime.strptime(time_str, '[%d/%b/%Y:%H:%M:%S %z]')\n",
    "    return time_obj\n",
    "\n",
    "def strip_quotes(s):\n",
    "    return s.replace('\"', '')\n",
    "\n",
    "\n",
    "def parse_log(log):\n",
    "    for line in log:\n",
    "        split_line = line.split()\n",
    "        if len(split_line) <= 1:\n",
    "            continue\n",
    "        remote_addr = split_line[0]\n",
    "    \n",
    "        time_local = split_line[3] + \" \" + split_line[4]\n",
    "        time_local = parse_time(time_local)\n",
    "        \n",
    "        request_type = split_line[5]\n",
    "        request_type = strip_quotes(request_type) \n",
    "        \n",
    "        request_path = split_line[6]\n",
    "        status = split_line[8]\n",
    "        body_bytes_sent = split_line[9]\n",
    "        http_referrer = split_line[10]\n",
    "        http_referrer = strip_quotes(http_referrer)\n",
    "        \n",
    "        http_user_agent = \" \".join(split_line[11:])\n",
    "        http_user_agent = strip_quotes(http_user_agent)\n",
    "        \n",
    "        yield (\n",
    "            remote_addr, time_local, request_type, request_path,\n",
    "            status, body_bytes_sent, http_referrer, http_user_agent\n",
    "        )\n",
    "        \n",
    "def build_csv(lines, header=None, file=None):\n",
    "    if header:\n",
    "        lines = itertools.chain([header], lines)\n",
    "    writer = csv.writer(file, delimiter=',')\n",
    "    writer.writerows(lines)\n",
    "    file.seek(0)\n",
    "    return file\n",
    "\n",
    "def count_unique_request(csv_file):\n",
    "    reader = csv.reader(csv_file)\n",
    "    header = next(reader)\n",
    "    idx = header.index('request_type')\n",
    "\n",
    "    uniques = {}\n",
    "    for line in reader:\n",
    "\n",
    "        if not uniques.get(line[idx]):\n",
    "            uniques[line[idx]] = 0\n",
    "        uniques[line[idx]] += 1\n",
    "    return ((k, v) for k,v in uniques.items())\n",
    "\n",
    "\n",
    "class Pipeline:\n",
    "    def __init__(self):\n",
    "        self.tasks = []\n",
    "    \n",
    "    def add_task(self, depends_on = None):\n",
    "        i  = 0\n",
    "        if depends_on:\n",
    "            i  = self.tasks.index(depends_on) + 1\n",
    "        def inner(f):\n",
    "            self.tasks.insert(i,f)\n",
    "            return f\n",
    "        return inner\n",
    "    def run_tasks(self, inpt):\n",
    "        out = inpt\n",
    "        for f in self.tasks:\n",
    "            out = f(out)\n",
    "            \n",
    "        return out\n",
    "\n",
    "pipeine = Pipeline()\n",
    "\n",
    "\n",
    "@pipeline.add_task()\n",
    "def log_parse(logs):\n",
    "    return parse_log(logs)\n",
    "\n",
    "@pipeline.add_task(depends_on = log_parse)\n",
    "def build_csv_file(lines):\n",
    "    return build_csv(lines,  header = [\n",
    "    'ip', 'time_local', 'request_type',\n",
    "        'request_path', 'status', 'bytes_sent',\n",
    "        'http_referrer', 'http_user_agent'\n",
    "    ],\n",
    "    file = io.StringIO())\n",
    "\n",
    "\n",
    "@pipeline.add_task(depends_on = build_csv_file)\n",
    "def uq_count(csv_file):\n",
    "    return count_unique_request(csv_file)\n",
    "\n",
    "@pipeline.add_task(depends_on = uq_count)\n",
    "def summ_csv(lines):\n",
    "    return build_csv(lines, header = ['request_type', 'count'], file=io.StringIO())\n",
    "\n",
    "\n",
    "logs = open('example_log.txt')\n",
    "summarized_file = pipeline.run_tasks(logs)\n",
    "print(summarized_file.readlines())"
   ]
  },
  {
   "cell_type": "code",
   "execution_count": null,
   "metadata": {},
   "outputs": [],
   "source": []
  },
  {
   "cell_type": "code",
   "execution_count": null,
   "metadata": {},
   "outputs": [],
   "source": []
  }
 ],
 "metadata": {
  "kernelspec": {
   "display_name": "Python 3",
   "language": "python",
   "name": "python3"
  },
  "language_info": {
   "codemirror_mode": {
    "name": "ipython",
    "version": 3
   },
   "file_extension": ".py",
   "mimetype": "text/x-python",
   "name": "python",
   "nbconvert_exporter": "python",
   "pygments_lexer": "ipython3",
   "version": "3.6.1"
  }
 },
 "nbformat": 4,
 "nbformat_minor": 2
}
