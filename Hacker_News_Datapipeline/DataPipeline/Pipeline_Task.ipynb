{
 "cells": [
  {
   "cell_type": "code",
   "execution_count": 5,
   "metadata": {},
   "outputs": [
    {
     "name": "stdout",
     "output_type": "stream",
     "text": [
      "[0, 1, 4, 9, 16, 25, 36, 49, 64, 81, 100, 121, 144, 169, 196, 225, 256, 289, 324, 361, 400]\n"
     ]
    },
    {
     "name": "stderr",
     "output_type": "stream",
     "text": [
      "/Library/Frameworks/Python.framework/Versions/3.6/lib/python3.6/site-packages/ipykernel_launcher.py:11: DeprecationWarning: generator 'squares' raised StopIteration\n",
      "  # This is added back by InteractiveShellApp.init_path()\n"
     ]
    }
   ],
   "source": [
    "#Generator and StopIteration use\n",
    "def squares(N):\n",
    "    i = 0\n",
    "    while True:\n",
    "        if i > N:\n",
    "            raise StopIteration\n",
    "        yield i * i \n",
    "        i+=1\n",
    "\n",
    "try:        \n",
    "    squared_values = [elem for elem in squares(20)]\n",
    "except StopIteration:\n",
    "    pass\n",
    "\n",
    "print(squared_values)\n",
    "    "
   ]
  },
  {
   "cell_type": "code",
   "execution_count": 6,
   "metadata": {},
   "outputs": [],
   "source": [
    "#Reading files with generator\n",
    "\n",
    "log = open('example_log.txt')\n",
    "\n",
    "def parse_log(log_obj):\n",
    "    for line in log_obj:\n",
    "        line = line.split()\n",
    "        remote_user = line[0]\n",
    "        time_local = line[3] + \" \" + line[4]\n",
    "        request_type = line[5]\n",
    "        request_path = line[6]\n",
    "        status = line[8]\n",
    "        body_bytes_sent = line[9]\n",
    "        http_referrer = line[10]\n",
    "        http_user_agent = \" \".join (line[11:])\n",
    "        \n",
    "        yield(remote_user, time_local, request_type, request_path, status, body_bytes_sent, http_referrer, http_user_agent)\n",
    "        \n",
    "first_line = next(parse_log(log))"
   ]
  },
  {
   "cell_type": "code",
   "execution_count": 2,
   "metadata": {},
   "outputs": [],
   "source": [
    "#More Sophiscated parsing the log\n",
    "from datetime import datetime\n",
    "\n",
    "\n",
    "def parse_log(log):\n",
    "    for line in log:\n",
    "        split_line = line.split()\n",
    "        remote_addr = split_line[0]\n",
    "        time_local = split_line[3] + \" \" + split_line[4]\n",
    "        time_local = parse_time(time_local)\n",
    "        \n",
    "        request_type = split_line[5]\n",
    "        request_type = strip_quotes(request_type) \n",
    "        \n",
    "        request_path = split_line[6]\n",
    "        status = split_line[8]\n",
    "        body_bytes_sent = split_line[9]\n",
    "        http_referrer = split_line[10]\n",
    "        http_referrer = strip_quotes(http_referrer)\n",
    "        \n",
    "        http_user_agent = \" \".join(split_line[11:])\n",
    "        http_user_agent = strip_quotes(http_user_agent)\n",
    "        \n",
    "        yield (\n",
    "            remote_addr, time_local, request_type, request_path,\n",
    "            status, body_bytes_sent, http_referrer, http_user_agent\n",
    "        )\n",
    "def parse_time(time_str):\n",
    "    \"\"\"\n",
    "    Parses time in the format [day/month/year:HH:MM:SS +####]\n",
    "    to a datetime object\n",
    "    \"\"\"\n",
    "    time_obj = datetime.strptime(time_str, '[%d/%b/%Y:%H:%M:%S %z]')\n",
    "    return time_obj\n",
    "\n",
    "def strip_quotes(s):\n",
    "    return s.replace('\"', '')\n",
    "\n",
    "log = open('example_log.txt')\n",
    "first_line = next(parse_log(log))"
   ]
  },
  {
   "cell_type": "code",
   "execution_count": 13,
   "metadata": {},
   "outputs": [
    {
     "name": "stdout",
     "output_type": "stream",
     "text": [
      "['ip,time_local,request_type,request_path,status,bytes_sent,http_referrer,http_user_agent\\n', '200.155.108.44,2017-11-30 11:59:54+00:00,PUT,/categories/categories/categories,401,963,http://www.yates.com/list/tags/category/,\"Mozilla/5.0 (Windows CE) AppleWebKit/5332 (KHTML, like Gecko) Chrome/13.0.864.0 Safari/5332\"\\n', '36.139.255.202,2017-11-30 11:59:54+00:00,PUT,/search,404,171,https://www.butler.org/main/tag/category/home.php,\"Mozilla/5.0 (Macintosh; PPC Mac OS X 10_5_0) AppleWebKit/5332 (KHTML, like Gecko) Chrome/15.0.813.0 Safari/5332\"\\n', '50.112.115.219,2017-11-30 11:59:54+00:00,POST,/main/blog,404,743,http://deleon-bender.com/categories/category.html,\"Mozilla/5.0 (Macintosh; Intel Mac OS X 10_5_5 rv:2.0; apn-IN) AppleWebKit/531.48.1 (KHTML, like Gecko) Version/4.0 Safari/531.48.1\"\\n', '204.132.56.4,2017-11-30 11:59:54+00:00,POST,/list,404,761,http://smith.com/category.htm,Opera/9.39.(Windows 98; Win 9x 4.90; mn-MN) Presto/2.9.163 Version/12.00\\n']\n"
     ]
    }
   ],
   "source": [
    "#From parsing process to making a csv file\n",
    "import csv\n",
    "\n",
    "\n",
    "def build_csv(lines, header = None, file = None):\n",
    "    if header:\n",
    "        lines = [header] + [line for line in lines]\n",
    "        \n",
    "    writer = csv.writer(file, delimiter = ',')\n",
    "    writer.writerows(lines)\n",
    "    \n",
    "    file.seek(0)\n",
    "    return file\n",
    "\n",
    "\n",
    "log = open('example_log.txt')\n",
    "parsed = parse_log(log)\n",
    "try:\n",
    "    file = open(\"temporary.csv\", 'r+')\n",
    "\n",
    "except FileNotFoundError:\n",
    "    file = open(\"temporary.csv\", 'w+')\n",
    "    \n",
    "    \n",
    "csv_file = build_csv(\n",
    "    parsed, \n",
    "    header = [\n",
    "        'ip', 'time_local', 'request_type',\n",
    "        'request_path', 'status', 'bytes_sent',\n",
    "        'http_referrer', 'http_user_agent'\n",
    "    ],\n",
    "    file = file)\n",
    "    \n",
    "contents = csv_file.readlines()\n",
    "\n",
    "print(contents[:5])\n"
   ]
  },
  {
   "cell_type": "code",
   "execution_count": 14,
   "metadata": {},
   "outputs": [
    {
     "name": "stdout",
     "output_type": "stream",
     "text": [
      "['ip,time_local,request_type,request_path,status,bytes_sent,http_referrer,http_user_agent\\n', '200.155.108.44,2017-11-30 11:59:54+00:00,PUT,/categories/categories/categories,401,963,http://www.yates.com/list/tags/category/,\"Mozilla/5.0 (Windows CE) AppleWebKit/5332 (KHTML, like Gecko) Chrome/13.0.864.0 Safari/5332\"\\n', '36.139.255.202,2017-11-30 11:59:54+00:00,PUT,/search,404,171,https://www.butler.org/main/tag/category/home.php,\"Mozilla/5.0 (Macintosh; PPC Mac OS X 10_5_0) AppleWebKit/5332 (KHTML, like Gecko) Chrome/15.0.813.0 Safari/5332\"\\n', '50.112.115.219,2017-11-30 11:59:54+00:00,POST,/main/blog,404,743,http://deleon-bender.com/categories/category.html,\"Mozilla/5.0 (Macintosh; Intel Mac OS X 10_5_5 rv:2.0; apn-IN) AppleWebKit/531.48.1 (KHTML, like Gecko) Version/4.0 Safari/531.48.1\"\\n', '204.132.56.4,2017-11-30 11:59:54+00:00,POST,/list,404,761,http://smith.com/category.htm,Opera/9.39.(Windows 98; Win 9x 4.90; mn-MN) Presto/2.9.163 Version/12.00\\n']\n"
     ]
    }
   ],
   "source": [
    "#Inserting header into lines generator like the above makes the lines lose its effect as a generator\n",
    "#So?! use itertool.chain()\n",
    "\n",
    "import csv\n",
    "import itertools\n",
    "\n",
    "\n",
    "log = open('example_log.txt')\n",
    "parsed = parse_log(log)\n",
    "\n",
    "def build_csv(lines, header=None, file=None):\n",
    "    # if header:\n",
    "    #    lines = [header] + [l for l in lines]\n",
    "    if header:\n",
    "        lines = itertools.chain([header], lines)\n",
    "        \n",
    "    writer = csv.writer(file, delimiter=',')\n",
    "    writer.writerows(lines)\n",
    "    file.seek(0)\n",
    "    return file\n",
    "\n",
    "file = open('temporary.csv', 'r+')\n",
    "csv_file = build_csv(\n",
    "    parsed,\n",
    "    header=[\n",
    "        'ip', 'time_local', 'request_type',\n",
    "        'request_path', 'status', 'bytes_sent',\n",
    "        'http_referrer', 'http_user_agent'\n",
    "    ],\n",
    "    file=file\n",
    ")\n",
    "    \n",
    "contents = csv_file.readlines()\n",
    "print(contents[:5])\n",
    "\n"
   ]
  },
  {
   "cell_type": "code",
   "execution_count": 16,
   "metadata": {},
   "outputs": [
    {
     "name": "stdout",
     "output_type": "stream",
     "text": [
      "{'PUT': 3367, 'POST': 3299, 'GET': 3334}\n"
     ]
    }
   ],
   "source": [
    "#Create a task\n",
    "#From the parsed logfile, find make a summary for the reqeust type\n",
    "import csv\n",
    "from collections import defaultdict\n",
    "\n",
    "log = open('example_log.txt')\n",
    "parsed = parse_log(log)\n",
    "file = open('temporary.csv', 'r+')\n",
    "csv_file = build_csv(\n",
    "    parsed,\n",
    "    header=[\n",
    "        'ip', 'time_local', 'request_type',\n",
    "        'request_path', 'status', 'bytes_sent',\n",
    "        'http_referrer', 'http_user_agent'\n",
    "    ],\n",
    "    file=file\n",
    ")\n",
    "\n",
    "def count_unique_requests(csv_file):\n",
    "    reader = csv.reader(csv_file)\n",
    "    header = next(reader)\n",
    "    idx = header.index('request_type')\n",
    "    res = defaultdict(int)\n",
    "    \n",
    "    for line in reader:\n",
    "        res[line[idx]] += 1\n",
    "        \n",
    "    return dict(res) \n",
    "\n",
    "uniques = count_unique_requests(csv_file)\n",
    "\n",
    "print(uniques)\n",
    "\n"
   ]
  },
  {
   "cell_type": "code",
   "execution_count": null,
   "metadata": {},
   "outputs": [],
   "source": [
    "#Letting the return type of the count_unique_request() function consistent with the generator\n",
    "\n",
    "import csv\n",
    "\n",
    "def count_unique_request(csv_file):\n",
    "    reader = csv.reader(csv_file)\n",
    "    header = next(reader)\n",
    "    idx = header.index('request_type')\n",
    "    res = defaultdict(int)\n",
    "    \n",
    "    for line in reader:\n",
    "        res[line[idx]] += 1\n",
    "    return ((key,value) for key,value in uniques.items())\n",
    "\n",
    "\n",
    "log = open('example_log.txt')\n",
    "parsed = parse_log(log)\n",
    "file = open('temporary.csv', 'r+')\n",
    "csv_file = build_csv(\n",
    "    parsed,\n",
    "    header=[\n",
    "        'ip', 'time_local', 'request_type',\n",
    "        'request_path', 'status', 'bytes_sent',\n",
    "        'http_referrer', 'http_user_agent'\n",
    "    ],\n",
    "    file=file\n",
    ")\n",
    "uniques = count_unique_request(csv_file)\n",
    "summarized_file = open('summarized.csv', 'r+')\n",
    "summarized_csv = build_csv(uniques, header=['request_type', 'count'], file=summarized_file)\n",
    "print(summarized_file.readlines())"
   ]
  }
 ],
 "metadata": {
  "kernelspec": {
   "display_name": "Python 3",
   "language": "python",
   "name": "python3"
  },
  "language_info": {
   "codemirror_mode": {
    "name": "ipython",
    "version": 3
   },
   "file_extension": ".py",
   "mimetype": "text/x-python",
   "name": "python",
   "nbconvert_exporter": "python",
   "pygments_lexer": "ipython3",
   "version": "3.6.1"
  }
 },
 "nbformat": 4,
 "nbformat_minor": 2
}
